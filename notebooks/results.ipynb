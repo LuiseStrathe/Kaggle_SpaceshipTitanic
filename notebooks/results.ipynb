{
 "cells": [
  {
   "cell_type": "markdown",
   "metadata": {},
   "source": [
    "# Kaggle - Spaceship Titanic\n",
    "CREATE RESULT FILE FOR UPLOAD"
   ]
  },
  {
   "cell_type": "code",
   "execution_count": 5,
   "metadata": {},
   "outputs": [],
   "source": [
    "#import libraries\n",
    "import pandas as pd\n",
    "import numpy as np\n",
    "import os\n",
    "import pickle"
   ]
  },
  {
   "cell_type": "code",
   "execution_count": 6,
   "metadata": {},
   "outputs": [
    {
     "name": "stdout",
     "output_type": "stream",
     "text": [
      "x_predict.shape: (4277, 16)\n"
     ]
    }
   ],
   "source": [
    "#load data\n",
    "version_data = \"v1_2\"\n",
    "\n",
    "path_data = f'../data/preprocessed/{version_data}/' \n",
    "x_predict = np.load(f'{path_data}X_predict.npy', allow_pickle=True) \n",
    "print(f'x_predict.shape: {x_predict.shape}')\n",
    "\n",
    "x_orig = pd.read_csv('../data/raw/sample_submission.csv')"
   ]
  },
  {
   "cell_type": "markdown",
   "metadata": {},
   "source": [
    "Make prediction"
   ]
  },
  {
   "cell_type": "code",
   "execution_count": 8,
   "metadata": {},
   "outputs": [
    {
     "name": "stdout",
     "output_type": "stream",
     "text": [
      "134/134 [==============================] - 0s 819us/step\n"
     ]
    }
   ],
   "source": [
    "#load model from json\n",
    "from xmlrpc.client import boolean\n",
    "\n",
    "\n",
    "version_model = \"NN__v1_2__02\"\n",
    "model = pickle.load(open(f'../models/{version_model}/model.pkl', 'rb'))\n",
    "#np.load(f'../models/{version_model}/model.json', allow_pickle=True)\n",
    "\n",
    "#predict\n",
    "y_prob = model.predict(x_predict)\n",
    "y_pred = np.where(y_prob > 0.5, 1, 0)\n",
    "\n",
    "#save results\n",
    "result = pd.DataFrame(columns=['PassengerId', 'Transported'])\n",
    "result['PassengerId'] = x_orig['PassengerId']\n",
    "result['Transported'] = y_pred.astype(boolean)\n",
    "result.to_csv(f'../results/result_{version_model}.csv', index=False)"
   ]
  }
 ],
 "metadata": {
  "kernelspec": {
   "display_name": "Python 3.10.4 ('venv': venv)",
   "language": "python",
   "name": "python3"
  },
  "language_info": {
   "codemirror_mode": {
    "name": "ipython",
    "version": 3
   },
   "file_extension": ".py",
   "mimetype": "text/x-python",
   "name": "python",
   "nbconvert_exporter": "python",
   "pygments_lexer": "ipython3",
   "version": "3.10.4"
  },
  "orig_nbformat": 4,
  "vscode": {
   "interpreter": {
    "hash": "59d600b4921a8892d280815dcd3c42f2a5d1bfe036a7914beca8a270877be602"
   }
  }
 },
 "nbformat": 4,
 "nbformat_minor": 2
}
