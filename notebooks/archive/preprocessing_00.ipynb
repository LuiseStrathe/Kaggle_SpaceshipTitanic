{
 "cells": [
  {
   "cell_type": "markdown",
   "metadata": {},
   "source": [
    "# Kaggle - Spaceship Titanic\n",
    "DATA PREPROCESSING"
   ]
  },
  {
   "cell_type": "code",
   "execution_count": 27,
   "metadata": {},
   "outputs": [],
   "source": [
    "#import libraries\n",
    "import numpy as np\n",
    "import pandas as pd\n",
    "import sklearn \n",
    "from sklearn.model_selection import train_test_split\n",
    "from random import shuffle\n",
    "import os\n",
    "from os import path\n",
    "import time"
   ]
  },
  {
   "cell_type": "markdown",
   "metadata": {},
   "source": [
    "### Preprocess data for Training and Model Selection (Train & Validation & Test)\n",
    "\n",
    "TRAIN.SCV"
   ]
  },
  {
   "cell_type": "code",
   "execution_count": 28,
   "metadata": {},
   "outputs": [
    {
     "name": "stdout",
     "output_type": "stream",
     "text": [
      "        PassengerId  CryoSleep        Age       VIP  RoomService    FoodCourt  \\\n",
      "mean            inf   0.354139  28.828093  0.022968   222.822935   456.714705   \n",
      "std             NaN   0.478287  14.446399  0.149813   674.900407  1574.797221   \n",
      "median     461251.0   0.000000  27.000000  0.000000     0.000000     0.000000   \n",
      "\n",
      "        ShoppingMall          Spa       VRDeck  Transported  \n",
      "mean      175.499043   315.693842   304.189769     0.503307  \n",
      "std       613.969158  1118.074541  1170.639327     0.500025  \n",
      "median      0.000000     0.000000     0.000000     1.000000  \n"
     ]
    },
    {
     "name": "stderr",
     "output_type": "stream",
     "text": [
      "/tmp/ipykernel_28323/1180195844.py:8: FutureWarning: ['PassengerId', 'HomePlanet', 'Cabin', 'Destination', 'Name'] did not aggregate successfully. If any error is raised this will raise in a future version of pandas. Drop these columns/ops to avoid this warning.\n",
      "  norm_paras = X_train_input.agg(['mean', 'std', 'median'])\n"
     ]
    }
   ],
   "source": [
    "#import dataset\n",
    "X = pd.read_csv('../data/raw/train.csv')\n",
    "\n",
    "#split dataset into train and test\n",
    "X_train_input, X_test_input = train_test_split(X, test_size=0.2, random_state=42, shuffle=True)\n",
    "\n",
    "#get parameters for normalization --> avoid data leekage\n",
    "norm_paras = X_train_input.agg(['mean', 'std', 'median'])\n",
    "print(norm_paras)"
   ]
  },
  {
   "cell_type": "markdown",
   "metadata": {},
   "source": [
    "Preprocessing pipeline"
   ]
  },
  {
   "cell_type": "code",
   "execution_count": 29,
   "metadata": {},
   "outputs": [],
   "source": [
    "def preprocess(X, norm_paras=norm_paras):\n",
    "\n",
    "    #extract y\n",
    "    if 'Transported' in X.columns:\n",
    "        y = X['Transported'].to_numpy()\n",
    "        X = X.drop(labels=\"Transported\", axis=1)\n",
    "    else:    y = None\n",
    "    \n",
    "    #drop columns\n",
    "    drops = ['PassengerId', 'Name', 'Cabin']\n",
    "    X_reduced = X.drop(labels=drops, axis=1)\n",
    "\n",
    "    #one-hot-encode categorical variables\n",
    "    one_hot = ['HomePlanet', 'Destination']\n",
    "    for col in one_hot:\n",
    "        X_reduced[col].fillna('unknown', inplace=True)\n",
    "    X_encoded = pd.get_dummies(X_reduced, columns=one_hot)\n",
    "\n",
    "    #fill missing values for binary variables\n",
    "    binaries = ['CryoSleep', 'VIP']\n",
    "    for col in binaries:\n",
    "        X_encoded[col].fillna(False, inplace=True)\n",
    "        X_encoded[col] = np.int32(X_encoded[col])\n",
    "\n",
    "    #normalize numerical variables and fill missing values\n",
    "    numerical = ['Age', 'RoomService', 'FoodCourt', 'ShoppingMall', 'Spa', 'VRDeck']\n",
    "    for col in numerical:\n",
    "        X_encoded[col].fillna(norm_paras[col]['median'], inplace=True)\n",
    "        X_encoded[col] = (X_encoded[col] - norm_paras[col]['mean']) / norm_paras[col]['std']\n",
    "        X_encoded[col] = np.float32(X_encoded[col])\n",
    "\n",
    "    #change to numpy array\n",
    "    X_final = X_encoded.to_numpy()\n",
    "\n",
    "    #info\n",
    "    print(\"This is an extract of df after preprocessing:\")\n",
    "    print(f\"Shape X: {X_final.shape}, Shape y: {y.shape if y is not None else None}\")\n",
    "    print(X_encoded.info())\n",
    "\n",
    "    return X_final, y"
   ]
  },
  {
   "cell_type": "code",
   "execution_count": 30,
   "metadata": {},
   "outputs": [
    {
     "name": "stdout",
     "output_type": "stream",
     "text": [
      "This is an extract of df after preprocessing:\n",
      "Shape X: (6954, 16), Shape y: (6954,)\n",
      "<class 'pandas.core.frame.DataFrame'>\n",
      "Int64Index: 6954 entries, 2333 to 7270\n",
      "Data columns (total 16 columns):\n",
      " #   Column                     Non-Null Count  Dtype  \n",
      "---  ------                     --------------  -----  \n",
      " 0   CryoSleep                  6954 non-null   int32  \n",
      " 1   Age                        6954 non-null   float32\n",
      " 2   VIP                        6954 non-null   int32  \n",
      " 3   RoomService                6954 non-null   float32\n",
      " 4   FoodCourt                  6954 non-null   float32\n",
      " 5   ShoppingMall               6954 non-null   float32\n",
      " 6   Spa                        6954 non-null   float32\n",
      " 7   VRDeck                     6954 non-null   float32\n",
      " 8   HomePlanet_Earth           6954 non-null   uint8  \n",
      " 9   HomePlanet_Europa          6954 non-null   uint8  \n",
      " 10  HomePlanet_Mars            6954 non-null   uint8  \n",
      " 11  HomePlanet_unknown         6954 non-null   uint8  \n",
      " 12  Destination_55 Cancri e    6954 non-null   uint8  \n",
      " 13  Destination_PSO J318.5-22  6954 non-null   uint8  \n",
      " 14  Destination_TRAPPIST-1e    6954 non-null   uint8  \n",
      " 15  Destination_unknown        6954 non-null   uint8  \n",
      "dtypes: float32(6), int32(2), uint8(8)\n",
      "memory usage: 326.0 KB\n",
      "None\n"
     ]
    }
   ],
   "source": [
    "# preprocess train.csv\n",
    "X_train, y_train = preprocess(X_train_input)"
   ]
  },
  {
   "cell_type": "code",
   "execution_count": 31,
   "metadata": {},
   "outputs": [
    {
     "name": "stdout",
     "output_type": "stream",
     "text": [
      "This is an extract of df after preprocessing:\n",
      "Shape X: (1739, 16), Shape y: (1739,)\n",
      "<class 'pandas.core.frame.DataFrame'>\n",
      "Int64Index: 1739 entries, 304 to 6093\n",
      "Data columns (total 16 columns):\n",
      " #   Column                     Non-Null Count  Dtype  \n",
      "---  ------                     --------------  -----  \n",
      " 0   CryoSleep                  1739 non-null   int32  \n",
      " 1   Age                        1739 non-null   float32\n",
      " 2   VIP                        1739 non-null   int32  \n",
      " 3   RoomService                1739 non-null   float32\n",
      " 4   FoodCourt                  1739 non-null   float32\n",
      " 5   ShoppingMall               1739 non-null   float32\n",
      " 6   Spa                        1739 non-null   float32\n",
      " 7   VRDeck                     1739 non-null   float32\n",
      " 8   HomePlanet_Earth           1739 non-null   uint8  \n",
      " 9   HomePlanet_Europa          1739 non-null   uint8  \n",
      " 10  HomePlanet_Mars            1739 non-null   uint8  \n",
      " 11  HomePlanet_unknown         1739 non-null   uint8  \n",
      " 12  Destination_55 Cancri e    1739 non-null   uint8  \n",
      " 13  Destination_PSO J318.5-22  1739 non-null   uint8  \n",
      " 14  Destination_TRAPPIST-1e    1739 non-null   uint8  \n",
      " 15  Destination_unknown        1739 non-null   uint8  \n",
      "dtypes: float32(6), int32(2), uint8(8)\n",
      "memory usage: 81.5 KB\n",
      "None\n"
     ]
    }
   ],
   "source": [
    "X_test, y_test = preprocess(X_test_input)"
   ]
  },
  {
   "cell_type": "code",
   "execution_count": 32,
   "metadata": {},
   "outputs": [
    {
     "name": "stdout",
     "output_type": "stream",
     "text": [
      "This is an extract of df after preprocessing:\n",
      "Shape X: (4277, 16), Shape y: None\n",
      "<class 'pandas.core.frame.DataFrame'>\n",
      "RangeIndex: 4277 entries, 0 to 4276\n",
      "Data columns (total 16 columns):\n",
      " #   Column                     Non-Null Count  Dtype  \n",
      "---  ------                     --------------  -----  \n",
      " 0   CryoSleep                  4277 non-null   int32  \n",
      " 1   Age                        4277 non-null   float32\n",
      " 2   VIP                        4277 non-null   int32  \n",
      " 3   RoomService                4277 non-null   float32\n",
      " 4   FoodCourt                  4277 non-null   float32\n",
      " 5   ShoppingMall               4277 non-null   float32\n",
      " 6   Spa                        4277 non-null   float32\n",
      " 7   VRDeck                     4277 non-null   float32\n",
      " 8   HomePlanet_Earth           4277 non-null   uint8  \n",
      " 9   HomePlanet_Europa          4277 non-null   uint8  \n",
      " 10  HomePlanet_Mars            4277 non-null   uint8  \n",
      " 11  HomePlanet_unknown         4277 non-null   uint8  \n",
      " 12  Destination_55 Cancri e    4277 non-null   uint8  \n",
      " 13  Destination_PSO J318.5-22  4277 non-null   uint8  \n",
      " 14  Destination_TRAPPIST-1e    4277 non-null   uint8  \n",
      " 15  Destination_unknown        4277 non-null   uint8  \n",
      "dtypes: float32(6), int32(2), uint8(8)\n",
      "memory usage: 167.2 KB\n",
      "None\n"
     ]
    }
   ],
   "source": [
    "# preprocess test.csv\n",
    "\n",
    "X_prediction = pd.read_csv('../data/raw/test.csv')\n",
    "X_prediction, _ = preprocess(X_prediction)"
   ]
  },
  {
   "cell_type": "code",
   "execution_count": 39,
   "metadata": {},
   "outputs": [
    {
     "name": "stdout",
     "output_type": "stream",
     "text": [
      "class:  ndarray\n",
      "shape:  (1739, 16)\n",
      "strides:  (8, 13912)\n",
      "itemsize:  8\n",
      "aligned:  True\n",
      "contiguous:  False\n",
      "fortran:  True\n",
      "data pointer: 0x55d7d6086820\n",
      "byteorder:  little\n",
      "byteswap:  False\n",
      "type: float64\n"
     ]
    }
   ],
   "source": [
    "np.info(X_test)"
   ]
  },
  {
   "cell_type": "markdown",
   "metadata": {},
   "source": [
    "---------------\n",
    "\n",
    "# Save dataset --version"
   ]
  },
  {
   "cell_type": "code",
   "execution_count": 33,
   "metadata": {},
   "outputs": [
    {
     "name": "stderr",
     "output_type": "stream",
     "text": [
      "/tmp/ipykernel_28323/2956212527.py:13: FutureWarning: The frame.append method is deprecated and will be removed from pandas in a future version. Use pandas.concat instead.\n",
      "  overview = overview.append({'version_ID': version_ID, 'version_note': version_note, 'timestamp': timestamp},\n",
      "/tmp/ipykernel_28323/2956212527.py:15: FutureWarning: Passing a set as an indexer is deprecated and will raise in a future version. Use a list instead.\n",
      "  overview = overview[{'version_ID', 'version_note', 'timestamp'}]\n"
     ]
    }
   ],
   "source": [
    "# prepare folder and info file for dataset versions\n",
    "\n",
    "version_ID = 'v1_2'\n",
    "version_note = 'dtype 32s'\n",
    "timestamp = time.strftime(\"on %Y_%m_%d at %H_%M\")\n",
    "\n",
    "overview = pd.read_csv('../data/preprocessed/dataset_overview.csv')\n",
    "\n",
    "if not os.path.exists(f'../data/preprocessed/{version_ID}'):\n",
    "        os.mkdir(f'../data/preprocessed/{version_ID}')\n",
    "\n",
    "#append to overview logs\n",
    "overview = overview.append({'version_ID': version_ID, 'version_note': version_note, 'timestamp': timestamp}, \n",
    "                                ignore_index=True)\n",
    "overview = overview[{'version_ID', 'version_note', 'timestamp'}]\n",
    "overview.drop_duplicates(inplace=True)\n",
    "overview.to_csv('../data/preprocessed/dataset_overview.csv')\n",
    "\n",
    "# save preprocessed data\n",
    "np.save(f'../data/preprocessed/{version_ID}/X_train.npy', X_train)\n",
    "np.save(f'../data/preprocessed/{version_ID}/X_test.npy', X_test)\n",
    "np.save(f'../data/preprocessed/{version_ID}/y_train.npy', y_train)\n",
    "np.save(f'../data/preprocessed/{version_ID}/y_test.npy', y_test)\n",
    "np.save(f'../data/preprocessed/{version_ID}/X_predict.npy', X_prediction)"
   ]
  },
  {
   "cell_type": "code",
   "execution_count": 34,
   "metadata": {},
   "outputs": [
    {
     "data": {
      "text/html": [
       "<div>\n",
       "<style scoped>\n",
       "    .dataframe tbody tr th:only-of-type {\n",
       "        vertical-align: middle;\n",
       "    }\n",
       "\n",
       "    .dataframe tbody tr th {\n",
       "        vertical-align: top;\n",
       "    }\n",
       "\n",
       "    .dataframe thead th {\n",
       "        text-align: right;\n",
       "    }\n",
       "</style>\n",
       "<table border=\"1\" class=\"dataframe\">\n",
       "  <thead>\n",
       "    <tr style=\"text-align: right;\">\n",
       "      <th></th>\n",
       "      <th>Unnamed: 0</th>\n",
       "      <th>timestamp</th>\n",
       "      <th>version_note</th>\n",
       "      <th>version_ID</th>\n",
       "    </tr>\n",
       "  </thead>\n",
       "  <tbody>\n",
       "    <tr>\n",
       "      <th>0</th>\n",
       "      <td>0</td>\n",
       "      <td>on 2022_09_20 at 17_04</td>\n",
       "      <td>Initial version</td>\n",
       "      <td>v1_0</td>\n",
       "    </tr>\n",
       "    <tr>\n",
       "      <th>1</th>\n",
       "      <td>1</td>\n",
       "      <td>on 2022_09_21 at 21_10</td>\n",
       "      <td>no more booleans</td>\n",
       "      <td>v1_1</td>\n",
       "    </tr>\n",
       "    <tr>\n",
       "      <th>2</th>\n",
       "      <td>2</td>\n",
       "      <td>on 2022_09_21 at 21_38</td>\n",
       "      <td>dtype 32s</td>\n",
       "      <td>v1_2</td>\n",
       "    </tr>\n",
       "    <tr>\n",
       "      <th>3</th>\n",
       "      <td>3</td>\n",
       "      <td>on 2022_09_21 at 21_51</td>\n",
       "      <td>dtype 32s</td>\n",
       "      <td>v1_2</td>\n",
       "    </tr>\n",
       "  </tbody>\n",
       "</table>\n",
       "</div>"
      ],
      "text/plain": [
       "   Unnamed: 0               timestamp      version_note version_ID\n",
       "0           0  on 2022_09_20 at 17_04   Initial version       v1_0\n",
       "1           1  on 2022_09_21 at 21_10  no more booleans       v1_1\n",
       "2           2  on 2022_09_21 at 21_38         dtype 32s       v1_2\n",
       "3           3  on 2022_09_21 at 21_51         dtype 32s       v1_2"
      ]
     },
     "execution_count": 34,
     "metadata": {},
     "output_type": "execute_result"
    }
   ],
   "source": [
    "# see overview of existant datasets\n",
    "\n",
    "overview = pd.read_csv('../data/preprocessed/dataset_overview.csv')\n",
    "overview"
   ]
  },
  {
   "cell_type": "code",
   "execution_count": 35,
   "metadata": {},
   "outputs": [],
   "source": [
    "############# use to create new oversion and DELETE OLD VERSIONS #############\n",
    "\n",
    "# overview = pd.DataFrame(columns=['version_ID', 'version_note', 'timestamp'])\n",
    "# overview.to_csv('../data/preprocessed/dataset_overview.csv')"
   ]
  }
 ],
 "metadata": {
  "kernelspec": {
   "display_name": "Python 3.10.4 ('venv': venv)",
   "language": "python",
   "name": "python3"
  },
  "language_info": {
   "codemirror_mode": {
    "name": "ipython",
    "version": 3
   },
   "file_extension": ".py",
   "mimetype": "text/x-python",
   "name": "python",
   "nbconvert_exporter": "python",
   "pygments_lexer": "ipython3",
   "version": "3.10.4"
  },
  "orig_nbformat": 4,
  "vscode": {
   "interpreter": {
    "hash": "59d600b4921a8892d280815dcd3c42f2a5d1bfe036a7914beca8a270877be602"
   }
  }
 },
 "nbformat": 4,
 "nbformat_minor": 2
}
