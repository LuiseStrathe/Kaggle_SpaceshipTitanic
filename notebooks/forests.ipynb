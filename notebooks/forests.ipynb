{
 "cells": [
  {
   "cell_type": "markdown",
   "metadata": {},
   "source": [
    "# Kaggle - Spaceship Titanic\n",
    "With RANDOM BOOSTED FORESTS"
   ]
  },
  {
   "cell_type": "code",
   "execution_count": 1,
   "metadata": {},
   "outputs": [],
   "source": [
    "#import libraries\n",
    "from http.client import ImproperConnectionState\n",
    "import numpy as np\n",
    "import pandas as pd\n",
    "import xgboost as xgb\n",
    "import sklearn \n",
    "from sklearn.model_selection import train_test_split\n",
    "import time\n",
    "import graphviz\n",
    "import os\n",
    "import pickle"
   ]
  },
  {
   "cell_type": "code",
   "execution_count": 7,
   "metadata": {},
   "outputs": [
    {
     "name": "stdout",
     "output_type": "stream",
     "text": [
      "x_train.shape: (6954, 10)\n",
      "x_test.shape: (1739, 10)\n",
      "y_train.shape: (6954,)\n",
      "y_test.shape: (1739,)\n",
      "x_predict.shape: (4277, 10)\n"
     ]
    }
   ],
   "source": [
    "#load data\n",
    "version_data = \"v2_0\"\n",
    "path_data = f'../data/preprocessed/{version_data}/' \n",
    "(x_test, x_train, y_test, y_train, x_predict) = [np.load(f'{path_data}{f}.npy', allow_pickle=True) \n",
    "                                                for f in ('X_test', 'X_train', 'y_test', 'y_train',  'X_predict')]\n",
    "\n",
    "print(f'x_train.shape: {x_train.shape}')\n",
    "print(f'x_test.shape: {x_test.shape}')\n",
    "print(f'y_train.shape: {y_train.shape}')\n",
    "print(f'y_test.shape: {y_test.shape}')\n",
    "print(f'x_predict.shape: {x_predict.shape}')"
   ]
  },
  {
   "cell_type": "markdown",
   "metadata": {},
   "source": [
    "### XGBoost\n",
    "--> random boosted forests"
   ]
  },
  {
   "cell_type": "markdown",
   "metadata": {},
   "source": [
    "Train model"
   ]
  },
  {
   "cell_type": "code",
   "execution_count": 10,
   "metadata": {},
   "outputs": [
    {
     "name": "stdout",
     "output_type": "stream",
     "text": [
      "Training duration: 8.859705924987793 sec\n",
      "Categorical accuracy: 0.7441058079355952\n"
     ]
    }
   ],
   "source": [
    "#train model\n",
    "xgbo = xgb.XGBClassifier(\n",
    "    max_depth=5,learning_rate=0.0001,n_estimators=8000,n_jobs=500, tree_method=\"gpu_hist\", enable_categorical=True, \n",
    "    objective='binary:logistic', eval_metric='logloss', verbosity=1, random_state=42) \n",
    "\n",
    "start_time = time.time()  #track the model development time\n",
    "xgbo.fit(x_train,y_train)\n",
    "end_time = time.time()\n",
    "duration = end_time - start_time\n",
    "\n",
    "print(\"Training duration: %s sec\" % (duration)) \n",
    "\n",
    "#predict\n",
    "y_predict = xgbo.predict(x_test)\n",
    "categorical_accuracy = np.sum(y_predict == y_test) / len(y_test)\n",
    "print(\"Categorical accuracy: %s\" % categorical_accuracy)"
   ]
  },
  {
   "cell_type": "markdown",
   "metadata": {},
   "source": [
    "SAVE MODEL"
   ]
  },
  {
   "cell_type": "code",
   "execution_count": 38,
   "metadata": {},
   "outputs": [
    {
     "name": "stdout",
     "output_type": "stream",
     "text": [
      "Saving model xgboost__v1_4__01 ...\n",
      "2022_09_22 at 05_02\n",
      "categorical_accuracy: 0.7878090856814262\n",
      "   categorical_accuracy           model_id            timestamp\n",
      "0              0.794710  xgboost__v1_0__01  2022_09_21 at 22_46\n",
      "1              0.774583       NN__v1_2__01  2022_09_21 at 22_48\n",
      "2              0.779758       NN__v1_2__02  2022_09_21 at 23_02\n",
      "3              0.793560       NN__v1_2__03  2022_09_21 at 23_38\n",
      "4              0.782059  xgboost__v1_3__01  2022_09_22 at 04_09\n",
      "5              0.780334  xgboost__v1_3__01  2022_09_22 at 04_12\n",
      "6              0.787234  xgboost__v1_3__01  2022_09_22 at 04_19\n",
      "7              0.741231  xgboost__v1_4__01  2022_09_22 at 04_58\n",
      "8              0.729155       NN__v1_4__05  2022_09_22 at 05_00\n",
      "0              0.787809  xgboost__v1_4__01  2022_09_22 at 05_02\n"
     ]
    },
    {
     "name": "stderr",
     "output_type": "stream",
     "text": [
      "/tmp/ipykernel_362627/1035557618.py:20: FutureWarning: Passing a set as an indexer is deprecated and will raise in a future version. Use a list instead.\n",
      "  overview = overview[{'model_id', 'timestamp', 'categorical_accuracy'}]\n"
     ]
    }
   ],
   "source": [
    "from statistics import mode\n",
    "\n",
    "\n",
    "model_id = 'xgboost__'+ version_data + '__01'\n",
    "print(f\"Saving model {model_id} ...\")\n",
    "\n",
    "#save model\n",
    "if not os.path.exists(f'../models/{model_id}'):\n",
    "        os.mkdir(f'../models/{model_id}')\n",
    "pickle.dump(xgbo, open(f'../models/{model_id}/model.pkl', 'wb'))\n",
    "\n",
    "#save results\n",
    "timestamp = time.strftime(\"%Y_%m_%d at %H_%M\")\n",
    "print(timestamp)\n",
    "print(f'categorical_accuracy: {categorical_accuracy}')\n",
    "\n",
    "overview = pd.read_csv('../models/prediction_overview.csv')\n",
    "new_row = {'model_id': model_id, 'timestamp': timestamp, 'categorical_accuracy': categorical_accuracy}\n",
    "overview = pd.concat([overview, pd.DataFrame(new_row, index=[0])])\n",
    "overview = overview[{'model_id', 'timestamp', 'categorical_accuracy'}]\n",
    "overview.drop_duplicates(inplace=True)\n",
    "print(overview)\n",
    "overview.to_csv('../models/prediction_overview.csv')"
   ]
  },
  {
   "cell_type": "code",
   "execution_count": 39,
   "metadata": {},
   "outputs": [],
   "source": [
    "############# use to create new version and DELETE OLD VERSIONS #############\n",
    "\n",
    "#overview = pd.DataFrame(columns=['model_id', 'timestamp', 'categorical_accuracy'])\n",
    "#overview.to_csv('../models/prediction_overview.csv')"
   ]
  }
 ],
 "metadata": {
  "kernelspec": {
   "display_name": "Python 3.10.4 ('venv': venv)",
   "language": "python",
   "name": "python3"
  },
  "language_info": {
   "codemirror_mode": {
    "name": "ipython",
    "version": 3
   },
   "file_extension": ".py",
   "mimetype": "text/x-python",
   "name": "python",
   "nbconvert_exporter": "python",
   "pygments_lexer": "ipython3",
   "version": "3.10.4"
  },
  "orig_nbformat": 4,
  "vscode": {
   "interpreter": {
    "hash": "59d600b4921a8892d280815dcd3c42f2a5d1bfe036a7914beca8a270877be602"
   }
  }
 },
 "nbformat": 4,
 "nbformat_minor": 2
}
